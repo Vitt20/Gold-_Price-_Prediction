{
 "cells": [
  {
   "cell_type": "code",
   "execution_count": 49,
   "id": "59a10143",
   "metadata": {},
   "outputs": [],
   "source": [
    "import numpy as np\n",
    "import pandas as pd\n",
    "import matplotlib.pyplot as plt\n",
    "import seaborn as sns\n",
    "from sklearn.model_selection import train_test_split\n",
    "from sklearn.ensemble import RandomForestRegressor\n",
    "from sklearn.metrics import r2_score\n",
    "\n"
   ]
  },
  {
   "cell_type": "code",
   "execution_count": 4,
   "id": "bdac466e",
   "metadata": {},
   "outputs": [],
   "source": [
    "gold = pd.read_csv('gld_price_data.csv')"
   ]
  },
  {
   "cell_type": "code",
   "execution_count": 5,
   "id": "eb732997",
   "metadata": {},
   "outputs": [
    {
     "data": {
      "text/html": [
       "<div>\n",
       "<style scoped>\n",
       "    .dataframe tbody tr th:only-of-type {\n",
       "        vertical-align: middle;\n",
       "    }\n",
       "\n",
       "    .dataframe tbody tr th {\n",
       "        vertical-align: top;\n",
       "    }\n",
       "\n",
       "    .dataframe thead th {\n",
       "        text-align: right;\n",
       "    }\n",
       "</style>\n",
       "<table border=\"1\" class=\"dataframe\">\n",
       "  <thead>\n",
       "    <tr style=\"text-align: right;\">\n",
       "      <th></th>\n",
       "      <th>Date</th>\n",
       "      <th>SPX</th>\n",
       "      <th>GLD</th>\n",
       "      <th>USO</th>\n",
       "      <th>SLV</th>\n",
       "      <th>EUR/USD</th>\n",
       "    </tr>\n",
       "  </thead>\n",
       "  <tbody>\n",
       "    <tr>\n",
       "      <th>0</th>\n",
       "      <td>1/2/2008</td>\n",
       "      <td>1447.160034</td>\n",
       "      <td>84.860001</td>\n",
       "      <td>78.470001</td>\n",
       "      <td>15.180</td>\n",
       "      <td>1.471692</td>\n",
       "    </tr>\n",
       "    <tr>\n",
       "      <th>1</th>\n",
       "      <td>1/3/2008</td>\n",
       "      <td>1447.160034</td>\n",
       "      <td>85.570000</td>\n",
       "      <td>78.370003</td>\n",
       "      <td>15.285</td>\n",
       "      <td>1.474491</td>\n",
       "    </tr>\n",
       "    <tr>\n",
       "      <th>2</th>\n",
       "      <td>1/4/2008</td>\n",
       "      <td>1411.630005</td>\n",
       "      <td>85.129997</td>\n",
       "      <td>77.309998</td>\n",
       "      <td>15.167</td>\n",
       "      <td>1.475492</td>\n",
       "    </tr>\n",
       "    <tr>\n",
       "      <th>3</th>\n",
       "      <td>1/7/2008</td>\n",
       "      <td>1416.180054</td>\n",
       "      <td>84.769997</td>\n",
       "      <td>75.500000</td>\n",
       "      <td>15.053</td>\n",
       "      <td>1.468299</td>\n",
       "    </tr>\n",
       "    <tr>\n",
       "      <th>4</th>\n",
       "      <td>1/8/2008</td>\n",
       "      <td>1390.189941</td>\n",
       "      <td>86.779999</td>\n",
       "      <td>76.059998</td>\n",
       "      <td>15.590</td>\n",
       "      <td>1.557099</td>\n",
       "    </tr>\n",
       "  </tbody>\n",
       "</table>\n",
       "</div>"
      ],
      "text/plain": [
       "       Date          SPX        GLD        USO     SLV   EUR/USD\n",
       "0  1/2/2008  1447.160034  84.860001  78.470001  15.180  1.471692\n",
       "1  1/3/2008  1447.160034  85.570000  78.370003  15.285  1.474491\n",
       "2  1/4/2008  1411.630005  85.129997  77.309998  15.167  1.475492\n",
       "3  1/7/2008  1416.180054  84.769997  75.500000  15.053  1.468299\n",
       "4  1/8/2008  1390.189941  86.779999  76.059998  15.590  1.557099"
      ]
     },
     "execution_count": 5,
     "metadata": {},
     "output_type": "execute_result"
    }
   ],
   "source": [
    "gold.head()\n"
   ]
  },
  {
   "cell_type": "code",
   "execution_count": 6,
   "id": "db4d4656",
   "metadata": {},
   "outputs": [
    {
     "data": {
      "text/plain": [
       "(2290, 6)"
      ]
     },
     "execution_count": 6,
     "metadata": {},
     "output_type": "execute_result"
    }
   ],
   "source": [
    "gold.shape \n"
   ]
  },
  {
   "cell_type": "code",
   "execution_count": 7,
   "id": "e0e3aa81",
   "metadata": {},
   "outputs": [
    {
     "name": "stdout",
     "output_type": "stream",
     "text": [
      "<class 'pandas.core.frame.DataFrame'>\n",
      "RangeIndex: 2290 entries, 0 to 2289\n",
      "Data columns (total 6 columns):\n",
      " #   Column   Non-Null Count  Dtype  \n",
      "---  ------   --------------  -----  \n",
      " 0   Date     2290 non-null   object \n",
      " 1   SPX      2290 non-null   float64\n",
      " 2   GLD      2290 non-null   float64\n",
      " 3   USO      2290 non-null   float64\n",
      " 4   SLV      2290 non-null   float64\n",
      " 5   EUR/USD  2290 non-null   float64\n",
      "dtypes: float64(5), object(1)\n",
      "memory usage: 107.5+ KB\n"
     ]
    }
   ],
   "source": [
    "gold.info()"
   ]
  },
  {
   "cell_type": "code",
   "execution_count": 8,
   "id": "a948fdfc",
   "metadata": {},
   "outputs": [
    {
     "data": {
      "text/plain": [
       "Date       0\n",
       "SPX        0\n",
       "GLD        0\n",
       "USO        0\n",
       "SLV        0\n",
       "EUR/USD    0\n",
       "dtype: int64"
      ]
     },
     "execution_count": 8,
     "metadata": {},
     "output_type": "execute_result"
    }
   ],
   "source": [
    "#check no. of missing values\n",
    "gold.isnull().sum()\n"
   ]
  },
  {
   "cell_type": "code",
   "execution_count": 12,
   "id": "440a5ccb",
   "metadata": {},
   "outputs": [
    {
     "data": {
      "text/html": [
       "<div>\n",
       "<style scoped>\n",
       "    .dataframe tbody tr th:only-of-type {\n",
       "        vertical-align: middle;\n",
       "    }\n",
       "\n",
       "    .dataframe tbody tr th {\n",
       "        vertical-align: top;\n",
       "    }\n",
       "\n",
       "    .dataframe thead th {\n",
       "        text-align: right;\n",
       "    }\n",
       "</style>\n",
       "<table border=\"1\" class=\"dataframe\">\n",
       "  <thead>\n",
       "    <tr style=\"text-align: right;\">\n",
       "      <th></th>\n",
       "      <th>SPX</th>\n",
       "      <th>GLD</th>\n",
       "      <th>USO</th>\n",
       "      <th>SLV</th>\n",
       "      <th>EUR/USD</th>\n",
       "    </tr>\n",
       "  </thead>\n",
       "  <tbody>\n",
       "    <tr>\n",
       "      <th>count</th>\n",
       "      <td>2290.000000</td>\n",
       "      <td>2290.000000</td>\n",
       "      <td>2290.000000</td>\n",
       "      <td>2290.000000</td>\n",
       "      <td>2290.000000</td>\n",
       "    </tr>\n",
       "    <tr>\n",
       "      <th>mean</th>\n",
       "      <td>1654.315776</td>\n",
       "      <td>122.732875</td>\n",
       "      <td>31.842221</td>\n",
       "      <td>20.084997</td>\n",
       "      <td>1.283653</td>\n",
       "    </tr>\n",
       "    <tr>\n",
       "      <th>std</th>\n",
       "      <td>519.111540</td>\n",
       "      <td>23.283346</td>\n",
       "      <td>19.523517</td>\n",
       "      <td>7.092566</td>\n",
       "      <td>0.131547</td>\n",
       "    </tr>\n",
       "    <tr>\n",
       "      <th>min</th>\n",
       "      <td>676.530029</td>\n",
       "      <td>70.000000</td>\n",
       "      <td>7.960000</td>\n",
       "      <td>8.850000</td>\n",
       "      <td>1.039047</td>\n",
       "    </tr>\n",
       "    <tr>\n",
       "      <th>25%</th>\n",
       "      <td>1239.874969</td>\n",
       "      <td>109.725000</td>\n",
       "      <td>14.380000</td>\n",
       "      <td>15.570000</td>\n",
       "      <td>1.171313</td>\n",
       "    </tr>\n",
       "    <tr>\n",
       "      <th>50%</th>\n",
       "      <td>1551.434998</td>\n",
       "      <td>120.580002</td>\n",
       "      <td>33.869999</td>\n",
       "      <td>17.268500</td>\n",
       "      <td>1.303297</td>\n",
       "    </tr>\n",
       "    <tr>\n",
       "      <th>75%</th>\n",
       "      <td>2073.010070</td>\n",
       "      <td>132.840004</td>\n",
       "      <td>37.827501</td>\n",
       "      <td>22.882500</td>\n",
       "      <td>1.369971</td>\n",
       "    </tr>\n",
       "    <tr>\n",
       "      <th>max</th>\n",
       "      <td>2872.870117</td>\n",
       "      <td>184.589996</td>\n",
       "      <td>117.480003</td>\n",
       "      <td>47.259998</td>\n",
       "      <td>1.598798</td>\n",
       "    </tr>\n",
       "  </tbody>\n",
       "</table>\n",
       "</div>"
      ],
      "text/plain": [
       "               SPX          GLD          USO          SLV      EUR/USD\n",
       "count  2290.000000  2290.000000  2290.000000  2290.000000  2290.000000\n",
       "mean   1654.315776   122.732875    31.842221    20.084997     1.283653\n",
       "std     519.111540    23.283346    19.523517     7.092566     0.131547\n",
       "min     676.530029    70.000000     7.960000     8.850000     1.039047\n",
       "25%    1239.874969   109.725000    14.380000    15.570000     1.171313\n",
       "50%    1551.434998   120.580002    33.869999    17.268500     1.303297\n",
       "75%    2073.010070   132.840004    37.827501    22.882500     1.369971\n",
       "max    2872.870117   184.589996   117.480003    47.259998     1.598798"
      ]
     },
     "execution_count": 12,
     "metadata": {},
     "output_type": "execute_result"
    }
   ],
   "source": [
    "#get statistical measure of data \n",
    "gold.describe()"
   ]
  },
  {
   "cell_type": "code",
   "execution_count": 14,
   "id": "95718c50",
   "metadata": {},
   "outputs": [],
   "source": [
    "numeric_gold = gold.select_dtypes(include=[float, int])"
   ]
  },
  {
   "cell_type": "code",
   "execution_count": 15,
   "id": "2f4642f8",
   "metadata": {},
   "outputs": [],
   "source": [
    "correlation = numeric_gold.corr()\n"
   ]
  },
  {
   "cell_type": "code",
   "execution_count": 16,
   "id": "86603a77",
   "metadata": {},
   "outputs": [
    {
     "name": "stdout",
     "output_type": "stream",
     "text": [
      "              SPX       GLD       USO       SLV   EUR/USD\n",
      "SPX      1.000000  0.049345 -0.591573 -0.274055 -0.672017\n",
      "GLD      0.049345  1.000000 -0.186360  0.866632 -0.024375\n",
      "USO     -0.591573 -0.186360  1.000000  0.167547  0.829317\n",
      "SLV     -0.274055  0.866632  0.167547  1.000000  0.321631\n",
      "EUR/USD -0.672017 -0.024375  0.829317  0.321631  1.000000\n"
     ]
    }
   ],
   "source": [
    "print(correlation)\n"
   ]
  },
  {
   "cell_type": "code",
   "execution_count": 21,
   "id": "b8a008ce",
   "metadata": {},
   "outputs": [
    {
     "name": "stdout",
     "output_type": "stream",
     "text": [
      "              SPX       GLD       USO       SLV   EUR/USD\n",
      "SPX      1.000000  0.049345 -0.591573 -0.274055 -0.672017\n",
      "GLD      0.049345  1.000000 -0.186360  0.866632 -0.024375\n",
      "USO     -0.591573 -0.186360  1.000000  0.167547  0.829317\n",
      "SLV     -0.274055  0.866632  0.167547  1.000000  0.321631\n",
      "EUR/USD -0.672017 -0.024375  0.829317  0.321631  1.000000\n"
     ]
    }
   ],
   "source": [
    "\n",
    "gold ['date_column'] = pd.to_datetime(gold ['Date'], errors='coerce')\n",
    "\n",
    "# Select only numeric columns\n",
    "numeric_gold= gold .select_dtypes(include=[float, int])\n",
    "\n",
    "# Compute the correlation matrix\n",
    "correlate = numeric_gold .corr()\n",
    "\n",
    "print(correlate)"
   ]
  },
  {
   "cell_type": "code",
   "execution_count": 23,
   "id": "96ff9aba",
   "metadata": {},
   "outputs": [
    {
     "data": {
      "text/plain": [
       "<Axes: >"
      ]
     },
     "execution_count": 23,
     "metadata": {},
     "output_type": "execute_result"
    },
    {
     "data": {
      "image/png": "[encoded data removed]",
      "text/plain": [
       "<Figure size 600x600 with 2 Axes>"
      ]
     },
     "metadata": {},
     "output_type": "display_data"
    }
   ],
   "source": [
    "plt.figure(figsize=(6,6))\n",
    "sns.heatmap(correlation)"
   ]
  },
  {
   "cell_type": "code",
   "execution_count": 29,
   "id": "ca080ce2",
   "metadata": {},
   "outputs": [
    {
     "data": {
      "text/plain": [
       "<Axes: >"
      ]
     },
     "execution_count": 29,
     "metadata": {},
     "output_type": "execute_result"
    },
    {
     "data": {
      "image/png": "[encoded data removed]",
      "text/plain": [
       "<Figure size 600x600 with 2 Axes>"
      ]
     },
     "metadata": {},
     "output_type": "display_data"
    }
   ],
   "source": [
    "plt.figure(figsize=(6,6))\n",
    "sns.heatmap(correlation,cbar=True,square=True,annot=True,annot_kws={\"size\":8},cmap=\"plasma\")"
   ]
  },
  {
   "cell_type": "code",
   "execution_count": 36,
   "id": "7228b5f6",
   "metadata": {},
   "outputs": [
    {
     "data": {
      "text/plain": [
       "<Axes: >"
      ]
     },
     "execution_count": 36,
     "metadata": {},
     "output_type": "execute_result"
    },
    {
     "data": {
      "image/png": "[encoded data removed]",
      "text/plain": [
       "<Figure size 640x480 with 2 Axes>"
      ]
     },
     "metadata": {},
     "output_type": "display_data"
    }
   ],
   "source": [
    "sns.heatmap(correlation,annot=True,annot_kws={\"size\":8})"
   ]
  },
  {
   "cell_type": "code",
   "execution_count": 37,
   "id": "dca95d5f",
   "metadata": {},
   "outputs": [
    {
     "name": "stdout",
     "output_type": "stream",
     "text": [
      "SPX        0.049345\n",
      "GLD        1.000000\n",
      "USO       -0.186360\n",
      "SLV        0.866632\n",
      "EUR/USD   -0.024375\n",
      "Name: GLD, dtype: float64\n"
     ]
    }
   ],
   "source": [
    "print(correlation['GLD'])\n"
   ]
  },
  {
   "cell_type": "code",
   "execution_count": 38,
   "id": "0dd5df6a",
   "metadata": {},
   "outputs": [
    {
     "name": "stderr",
     "output_type": "stream",
     "text": [
      "C:\\Users\\Vitthal Chavan\\anaconda3\\Lib\\site-packages\\seaborn\\axisgrid.py:118: UserWarning: The figure layout has changed to tight\n",
      "  self._figure.tight_layout(*args, **kwargs)\n"
     ]
    },
    {
     "data": {
      "text/plain": [
       "<seaborn.axisgrid.FacetGrid at 0x227b0c5bed0>"
      ]
     },
     "execution_count": 38,
     "metadata": {},
     "output_type": "execute_result"
    },
    {
     "data": {
      "image/png": "[encoded data removed]",
      "text/plain": [
       "<Figure size 500x500 with 1 Axes>"
      ]
     },
     "metadata": {},
     "output_type": "display_data"
    }
   ],
   "source": [
    "sns.displot(gold['GLD'],color='blue')"
   ]
  },
  {
   "cell_type": "code",
   "execution_count": 39,
   "id": "2278f118",
   "metadata": {},
   "outputs": [],
   "source": [
    "X= gold.drop(['Date','GLD'],axis=1)\n",
    "Y= gold['GLD']"
   ]
  },
  {
   "cell_type": "code",
   "execution_count": 41,
   "id": "50e49cb5",
   "metadata": {},
   "outputs": [
    {
     "data": {
      "text/plain": [
       "(2290,)"
      ]
     },
     "execution_count": 41,
     "metadata": {},
     "output_type": "execute_result"
    }
   ],
   "source": [
    "Y.shape\n"
   ]
  },
  {
   "cell_type": "code",
   "execution_count": 53,
   "id": "d5f9dfe8",
   "metadata": {},
   "outputs": [],
   "source": [
    "X_train, X_test, Y_train, Y_test = train_test_split(X, Y, test_size=0.2, random_state=42)"
   ]
  },
  {
   "cell_type": "code",
   "execution_count": 58,
   "id": "aa7ae157",
   "metadata": {},
   "outputs": [
    {
     "name": "stdout",
     "output_type": "stream",
     "text": [
      "SPX        float64\n",
      "USO        float64\n",
      "SLV        float64\n",
      "EUR/USD    float64\n",
      "dtype: object\n"
     ]
    }
   ],
   "source": [
    "print(X_train.dtypes)\n"
   ]
  },
  {
   "cell_type": "code",
   "execution_count": 59,
   "id": "883e5c18",
   "metadata": {},
   "outputs": [],
   "source": [
    "X_train = X_train.select_dtypes(include=[float, int])\n",
    "X_test = X_test.select_dtypes(include=[float, int])\n"
   ]
  },
  {
   "cell_type": "code",
   "execution_count": 60,
   "id": "371cea1e",
   "metadata": {},
   "outputs": [
    {
     "name": "stdout",
     "output_type": "stream",
     "text": [
      "R^2 Score: 0.9895139488823562\n"
     ]
    }
   ],
   "source": [
    "reg = RandomForestRegressor()\n",
    "reg.fit(X_train, Y_train)\n",
    "pred = reg.predict(X_test)\n",
    "score = r2_score(Y_test, pred)\n",
    "print(f'R^2 Score: {score}')\n"
   ]
  },
  {
   "cell_type": "code",
   "execution_count": 61,
   "id": "588b8f37",
   "metadata": {},
   "outputs": [
    {
     "name": "stdout",
     "output_type": "stream",
     "text": [
      "[122.33259921 130.50470338 127.54500007  96.80739752 118.93240073\n",
      " 114.52439961 124.86300131 117.69799928 107.96330151  98.2837\n",
      "  95.3516994  167.78429797 148.40650154 116.23989995 170.66550117\n",
      "  85.12739981 123.19229891 108.82579693 113.10700098 131.6628028\n",
      " 124.29689881 113.71220102 116.06570042 108.65189953 108.60930191\n",
      " 125.82109936 119.07599964 112.43979927 113.61600172 125.61169919\n",
      " 146.18510125  89.43449976 167.91489958 113.76059931 108.39760097\n",
      " 120.18920117 141.83519897 161.16310116 173.59309794 153.01150168\n",
      " 119.54440129 113.50360059 121.34859946 113.69239943 122.08073795\n",
      " 107.80520048  88.84429891 114.4893991  129.69270253 117.8440009\n",
      " 104.22950025 129.6368027  107.20909835 160.63810449 131.47149988\n",
      " 118.33290014 147.23810079 136.80270188  95.62420108 124.65730116\n",
      " 114.8271989   86.14730059 104.31009906 113.93460072  84.04029941\n",
      " 122.31310024 116.55409889 113.53770197 165.5978024   92.49160036\n",
      "  80.00280097 160.96170061 159.33460188 106.9103001  150.01210132\n",
      " 109.58919758 122.70960036 128.69590149 113.19449894 120.1265007\n",
      " 136.05209725 107.18140088  93.81800115  92.7053987  111.62750075\n",
      " 118.86200012 108.61779909 112.16879947 168.59769889 161.07759928\n",
      " 107.76729843 125.40570043 108.14150071 115.16880175 126.80009824\n",
      " 108.34209951 162.22440222  84.10119923 131.55170309 114.00630015\n",
      " 155.67080128 110.36209806 114.07659999 107.33900017 137.15640043\n",
      "  88.47359959  92.45439898 175.09960085 118.79470094 118.61590026\n",
      " 121.21620058 171.42479715 131.67839991 119.72420055 157.28750224\n",
      " 118.90399838 119.32710012 110.60689948 120.32409939 122.06019997\n",
      " 129.03789849 114.7826001   89.57089936 114.58110128 131.84620005\n",
      " 115.53120139 125.04200002  90.9192001  106.79730039 117.08680139\n",
      " 109.77459905 166.28220242  80.68110044 121.87691276  73.09800153\n",
      " 111.3434991  100.92270096 124.17889989  75.8811999  125.08269912\n",
      " 119.79350082 105.72789978  90.95939907 132.02029996 137.07800235\n",
      " 176.16440001 126.74929938 126.64589923 123.97999996  91.94699855\n",
      " 149.16590105 102.86719912 117.24660008 134.32239795 135.93539994\n",
      " 118.20320014 117.02480172 102.17389782 123.79689872  89.4445994\n",
      " 108.14819927 117.51680054 166.4393007  117.16290042 118.23449976\n",
      " 155.67260163 111.11480031  87.20969895 116.58370112 124.27589951\n",
      " 120.65290228 118.14940026  96.59369899 109.36849991 114.94479916\n",
      " 127.53350069 156.04410041 107.82860064 123.92909926 139.5955022\n",
      "  90.99270073 118.17390102 130.49630117 113.82449893 108.45839915\n",
      " 119.21020036 127.99569994 125.65249984 145.58280107 112.50930086\n",
      "  93.66490009 115.06350008 125.63930037 120.47800188 122.32103893\n",
      "  92.66010072 121.3618985   93.23680004 119.12960027 124.1566006\n",
      " 121.88530001 131.45250023 124.37019932 115.0110014  127.4141007\n",
      " 113.07730146 165.37829903 122.22929798 119.54850215 114.03540019\n",
      " 120.07009989 120.23739969 105.88110073 116.28150061 125.82039916\n",
      " 172.07469715  85.73229992 134.88479836 127.65349892  73.67660062\n",
      " 119.22689945  88.76719951 162.96660199  92.07569943 159.10850185\n",
      " 102.21369848 102.89699947 102.49179877 118.61539926 165.38990135\n",
      " 120.19490136 135.81129911  96.70049837 113.17919956 132.50670059\n",
      " 145.70189981 125.76760003 101.50760017 125.37160097 160.58680146\n",
      " 119.77230143 126.49880085 127.55110159 115.36819934 156.5161018\n",
      " 128.94320022 114.36229948 176.57729947 119.94400204 118.96100123\n",
      " 102.75019898 160.81579948 114.7974008  118.40059991 125.7756993\n",
      " 116.94960119 114.58419951  90.92449949 101.54169983 131.87250093\n",
      " 118.84170247 167.94049827 107.91180148  86.42050068  91.70779931\n",
      " 156.35989945 159.09480015 153.02429888  72.86209958 120.94060016\n",
      " 117.14290019 158.54549945 135.58749885 111.81319965 114.05029967\n",
      " 160.65520175 125.63139929 119.43490063 117.40749985 157.29270229\n",
      " 104.0203996   89.50009922  83.31739931  90.31159949 115.5196001\n",
      " 113.54569995 119.63130126 119.63370095  79.70780019  91.11290094\n",
      " 153.78480305 119.30080065 131.57160045 126.30740013 113.91860101\n",
      "  82.40390064 118.12409871  89.99220021 117.97359942 163.37910252\n",
      " 121.24890083 110.35140049 125.45069854 114.51640026 135.65240057\n",
      "  80.26420114 164.05989957 132.5930002  164.24140016 127.68679921\n",
      "  91.42449892 108.52969908 114.25799926 127.58030114 119.49680141\n",
      "  92.48509906 132.27769908 162.67330116  72.45220166 110.67350028\n",
      " 108.55990003 113.90919879 120.37240099 112.03379991 120.83159975\n",
      " 118.36310193 126.26420085 125.8761013  109.34649985 167.71880005\n",
      " 167.11769875 112.38579958 169.58579735 112.06190019 161.82840162\n",
      " 127.54089882 167.66129925 135.17760073 109.36349814 167.16139988\n",
      " 116.63930137  72.65150048 113.52699988  93.30969973  87.81620001\n",
      " 104.15819877 125.94980066 123.40659781 168.21609864 121.19500052\n",
      "  87.30289915 131.7948983  121.79350044 107.75019937 168.99369892\n",
      " 126.18119782 127.05240135 113.68730103 134.99070087 125.17040074\n",
      " 144.60519968 123.36999941 118.27680035 121.06830033 166.99099982\n",
      "  71.76870048 164.18119871 165.94789895 118.66450064 103.58939836\n",
      " 128.30889934 154.38809939 172.0653004  135.19029723 126.86309974\n",
      " 124.12740012 153.85789788  87.83059998 130.92120193 111.03610067\n",
      " 165.68220071 156.45649967 166.48699939 121.64389956  90.15630035\n",
      " 132.26210172 100.23869972 127.63599743 127.78519797 108.71229933\n",
      "  90.75849883 153.04120129  95.00189873  87.98069946 124.96579963\n",
      "  87.08679783  94.46770108 113.78579976 156.42840309 147.99580097\n",
      " 105.0382002  166.73729758 111.34879995 128.37980048  90.74799996\n",
      " 109.45289928  76.29560081 110.63929978 163.49089901 154.25399942\n",
      " 152.5405017  161.77070057  92.13129871 117.86470156  93.06220124\n",
      " 129.71239979 117.31010032 117.37250041 124.3454007  120.9585003\n",
      "  97.95609953 169.07110128 146.43760141 124.40059875 169.12519834\n",
      "  84.28080002 167.31369755 130.31770306 119.92640194  88.34159972\n",
      " 119.84879905  83.7294989  118.70310111 114.06639883 116.54649898\n",
      " 154.77969798 133.47180328 117.73980164 118.85109854 123.18149864\n",
      " 115.58820113 118.55109998 122.12140063 145.43360029 149.89120057\n",
      " 168.1842002   98.12939926 160.20000109  92.98260029 142.97449984\n",
      " 121.57850057  83.98729886 106.35159997 123.57919954 169.51579704\n",
      "  93.4765988   96.38750083 152.81789996]\n"
     ]
    }
   ],
   "source": [
    "print(pred)"
   ]
  },
  {
   "cell_type": "code",
   "execution_count": null,
   "id": "3d6a4449",
   "metadata": {},
   "outputs": [],
   "source": []
  }
 ],
 "metadata": {
  "kernelspec": {
   "display_name": "Python 3 (ipykernel)",
   "language": "python",
   "name": "python3"
  },
  "language_info": {
   "codemirror_mode": {
    "name": "ipython",
    "version": 3
   },
   "file_extension": ".py",
   "mimetype": "text/x-python",
   "name": "python",
   "nbconvert_exporter": "python",
   "pygments_lexer": "ipython3",
   "version": "3.11.5"
  }
 },
 "nbformat": 4,
 "nbformat_minor": 5
}
